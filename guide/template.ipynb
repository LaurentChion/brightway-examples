{
 "cells": [
  {
   "cell_type": "markdown",
   "metadata": {},
   "source": [
    "(introduction)=\n",
    "# Introduction\n",
    "\n",
    "```{admonition} Authors\n",
    ":name: introduction_authors\n",
    "This notebook was prepared in August 2023 by [`@michaelweinold`](https://github.com/michaelweinold).\n",
    "```\n",
    "\n",
    "```{admonition} Download\n",
    ":name: introduction_download\n",
    "You can download this notebook here: {nb-download}`template.ipynb` \\\n",
    "You can download the required Conda environment here: {download}`template.yml`\n",
    "```\n",
    "\n",
    "```{admonition} Prerequisites\n",
    ":name: introduction_prerequisites\n",
    "1. Basic knowledge of the [Conda environment management system](https://docs.conda.io/en/latest/).\n",
    "2. A local download of the [Ecoivent](https://ecoinvent.org) 3.9 database.\n",
    "```"
   ]
  },
  {
   "cell_type": "markdown",
   "metadata": {},
   "source": [
    "# Content\n",
    "\n",
    "This notebook demonstrates how to:\n",
    "1. Import all `brightway` packages\n",
    "2. Import the Ecoinvent `3.9` database into Brightway"
   ]
  },
  {
   "attachments": {},
   "cell_type": "markdown",
   "metadata": {},
   "source": [
    "# Notebook\n",
    "## 0. Setup\n",
    "### 0.1. Create and activate the `conda` environment\n",
    "\n",
    "Download the conda environment file `template.yaml` from the [Download Section](#introduction_download) and create the environment with:\n",
    "\n",
    "```{note}\n",
    "Replace `template` with the name of your environment.\n",
    "```\n",
    "\n",
    "```bash\n",
    "conda env create -f template.yaml\n",
    "```\n",
    "\n",
    "Now activate the environment with:\n",
    "\n",
    "```bash\n",
    "conda activate template\n",
    "```\n",
    "\n",
    "### 0.2. Import packages"
   ]
  },
  {
   "cell_type": "code",
   "execution_count": 2,
   "metadata": {},
   "outputs": [],
   "source": [
    "# Brightway packages\n",
    "import bw2io\n",
    "import bw2data\n",
    "# Brightway type hints\n",
    "from bw2io import SingleOutputEcospold2Importer\n",
    "# import/export\n",
    "import os"
   ]
  },
  {
   "attachments": {},
   "cell_type": "markdown",
   "metadata": {},
   "source": [
    "### 0.2. Variables"
   ]
  },
  {
   "cell_type": "code",
   "execution_count": 2,
   "metadata": {},
   "outputs": [],
   "source": [
    "str_ecoinvent_version: str = '3.9.1'"
   ]
  },
  {
   "attachments": {},
   "cell_type": "markdown",
   "metadata": {},
   "source": [
    "### 0.2. File paths\n",
    "\n",
    "```{note}\n",
    "Replace `/data/data_raw` with the path to the Ecoinvent data folder you downloaded according to the [prerequisites](#introduction_prerequisites).\n",
    "```"
   ]
  },
  {
   "cell_type": "code",
   "execution_count": 3,
   "metadata": {},
   "outputs": [],
   "source": [
    "path_dir_datasets_ecoinvent: str = os.path.expanduser('~') + '/data/data_raw/ecoinvent_' + str_ecoinvent_version + '_cutoff_ecoSpold02/datasets'"
   ]
  },
  {
   "attachments": {},
   "cell_type": "markdown",
   "metadata": {},
   "source": [
    "## 1. `Brightway` setup\n",
    "### 1.1. List all projects and current project"
   ]
  },
  {
   "cell_type": "code",
   "execution_count": null,
   "metadata": {},
   "outputs": [],
   "source": [
    "bw2data.projects"
   ]
  },
  {
   "cell_type": "code",
   "execution_count": null,
   "metadata": {},
   "outputs": [],
   "source": [
    "bw2data.projects.current"
   ]
  },
  {
   "attachments": {},
   "cell_type": "markdown",
   "metadata": {},
   "source": [
    "### 1.2. Ensure no project is corrupted\n",
    "\n",
    "If a project has been corrupted, simply delete it and re-populate it (compare [`bw2io` issue #118](https://github.com/brightway-lca/brightway2-data/issues/118))"
   ]
  },
  {
   "cell_type": "code",
   "execution_count": 7,
   "metadata": {},
   "outputs": [],
   "source": [
    "def safe_delete_brightway_project(projectname: str) -> None:\n",
    "    try:\n",
    "        bw2data.projects.delete_project(\n",
    "            name = projectname,\n",
    "            delete_dir = True\n",
    "        )\n",
    "    except:\n",
    "        pass"
   ]
  },
  {
   "attachments": {},
   "cell_type": "markdown",
   "metadata": {},
   "source": [
    "## 2. Import `Ecoinvent` Databases"
   ]
  },
  {
   "cell_type": "code",
   "execution_count": 9,
   "metadata": {},
   "outputs": [
    {
     "name": "stdout",
     "output_type": "stream",
     "text": [
      "Creating default biosphere\n",
      "\n",
      "Applying strategy: normalize_units\n",
      "Applying strategy: drop_unspecified_subcategories\n",
      "Applying strategy: ensure_categories_are_tuples\n",
      "Applied 3 strategies in 0.00 seconds\n",
      "Warning: No valid output stream.\n",
      "Title: Writing activities to SQLite3 database:\n",
      "  Started: 04/01/2023 14:06:45\n",
      "  Finished: 04/01/2023 14:06:45\n",
      "  Total time elapsed: 00:00:00\n",
      "  CPU %: 100.10\n",
      "  Memory %: 0.51\n",
      "Created database: biosphere3\n",
      "Creating default LCIA methods\n",
      "\n",
      "Wrote 762 LCIA methods with 227223 characterization factors\n",
      "Creating core data migrations\n",
      "\n",
      "Extracting XML data from 21238 datasets\n",
      "Extracted 21238 datasets in 16.96 seconds\n"
     ]
    }
   ],
   "source": [
    "safe_delete_brightway_project(str_ecoinvent_version)\n",
    "bw2data.projects.set_current(str_ecoinvent_version)\n",
    "bw2io.bw2setup()\n",
    "importer: SingleOutputEcospold2Importer = bw2io.SingleOutputEcospold2Importer(\n",
    "    dirpath = path_dir_datasets_ecoinvent,\n",
    "    db_name = str_ecoinvent_version\n",
    ")"
   ]
  }
 ],
 "metadata": {
  "kernelspec": {
   "display_name": "pylcaio_ecoinvent_3_9",
   "language": "python",
   "name": "python3"
  },
  "language_info": {
   "codemirror_mode": {
    "name": "ipython",
    "version": 3
   },
   "file_extension": ".py",
   "mimetype": "text/x-python",
   "name": "python",
   "nbconvert_exporter": "python",
   "pygments_lexer": "ipython3",
   "version": "3.11.3"
  },
  "vscode": {
   "interpreter": {
    "hash": "3c89c8428eb62ebeff7cce9fe46d72c1c903a49cd2726d542d3c7356791f0388"
   }
  }
 },
 "nbformat": 4,
 "nbformat_minor": 2
}
