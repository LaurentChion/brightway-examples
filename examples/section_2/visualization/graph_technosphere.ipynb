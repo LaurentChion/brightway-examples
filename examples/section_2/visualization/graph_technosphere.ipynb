{
 "cells": [
  {
   "attachments": {},
   "cell_type": "markdown",
   "metadata": {},
   "source": [
    "# Plotting the Technosphere Matrix"
   ]
  },
  {
   "attachments": {},
   "cell_type": "markdown",
   "metadata": {},
   "source": [
    "```{admonition} Authors\n",
    "This notebook was prepared in August 2023 by [`@michaelweinold`](https://github.com/michaelweinold) and [`@cmutel`](https://github.com/cmutel).\n",
    "```\n",
    "```{admonition} Download\n",
    "You can download this notebook here: {nb-download}`graph_technosphere.ipynb` \\\n",
    "You can download the required Conda environment here: {download}`graph_technosphere.yml`\n",
    "```\n",
    "```{admonition} Prerequisites\n",
    "1. A local download of the correct Ecoinvent 3.9 database (unzipped).\n",
    "2. The appropriate Conda environment, installed from the provided environment file.\n",
    "```"
   ]
  },
  {
   "cell_type": "code",
   "execution_count": null,
   "metadata": {},
   "outputs": [],
   "source": [
    "# brightway packages\n",
    "import bw2data\n",
    "import bw2io\n",
    "# brightway type hints\n",
    "from bw2io import SingleOutputEcospold2Importer"
   ]
  },
  {
   "cell_type": "code",
   "execution_count": null,
   "metadata": {},
   "outputs": [],
   "source": [
    "bw2data.projects.set_current(\"ecoinvent39\")\n",
    "bw2io.bw2setup()\n",
    "\n",
    "print(\"Default biosphere flows:\", len(Database(\"biosphere3\")))\n",
    "print(\"Default LCIA methods:\", len(methods))\n",
    "\n",
    "path_dir_datasets_ecoinvent39: str = '/Users/<USER>/<PATH_TO_ECOINVENT_39>/datasets'\n",
    "\n",
    "ecoinvent39_importer: SingleOutputEcospold2Importer = bw2io.SingleOutputEcospold2Importer(\n",
    "    dirpath = path_dir_datasets_ecoinvent39,\n",
    "    db_name = 'ei39'\n",
    ")\n",
    "ecoinvent39_importer.apply_strategies()\n",
    "ecoinvent39_importer.statistics()\n",
    "\n",
    "bw2data.Database('ei39').graph_technosphere()"
   ]
  },
  {
   "attachments": {},
   "cell_type": "markdown",
   "metadata": {},
   "source": [
    "![image](graph_technosphere.png)"
   ]
  }
 ],
 "metadata": {
  "kernelspec": {
   "display_name": "Python 3",
   "language": "python",
   "name": "python3"
  },
  "language_info": {
   "name": "python",
   "version": "3.10.8 (main, Oct 21 2022, 22:22:30) [Clang 14.0.0 (clang-1400.0.29.202)]"
  },
  "orig_nbformat": 4,
  "vscode": {
   "interpreter": {
    "hash": "b0fa6594d8f4cbf19f97940f81e996739fb7646882a419484c72d19e05852a7e"
   }
  }
 },
 "nbformat": 4,
 "nbformat_minor": 2
}
